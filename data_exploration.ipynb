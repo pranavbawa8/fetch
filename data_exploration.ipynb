{
 "cells": [
  {
   "cell_type": "code",
   "execution_count": 76,
   "metadata": {},
   "outputs": [],
   "source": [
    "import pandas as pd\n",
    "import numpy as np\n",
    "import json\n",
    "from datetime import datetime\n",
    "import matplotlib.pyplot as plt\n",
    "import seaborn as sns"
   ]
  },
  {
   "cell_type": "code",
   "execution_count": 45,
   "metadata": {},
   "outputs": [],
   "source": [
    "brands_df = pd.read_json('brands.json.gz', lines= True)\n",
    "receipts_df = pd.read_json('receipts.json.gz', lines= True)\n",
    "user_df = pd.read_json('users.json/users.json', lines= True)"
   ]
  },
  {
   "cell_type": "code",
   "execution_count": 46,
   "metadata": {},
   "outputs": [],
   "source": [
    "def dataset_summary(df, name):\n",
    "    print(f\"=== {name} Dataset Summary ===\")\n",
    "    print(f\"Shape: {df.shape}\")\n",
    "    print(\"\\nColumn non-null counts:\")\n",
    "    for col in df.columns:\n",
    "        print(f\"- {col}: {df[col].count()} non-null values ({df[col].count()/len(df)*100:.1f}%)\")\n",
    "    print(\"\\nDtypes:\")\n",
    "    print(df.dtypes)\n",
    "    print(\"\\n\")\n"
   ]
  },
  {
   "cell_type": "code",
   "execution_count": 47,
   "metadata": {},
   "outputs": [
    {
     "name": "stdout",
     "output_type": "stream",
     "text": [
      "=== Brands Dataset Summary ===\n",
      "Shape: (1167, 8)\n",
      "\n",
      "Column non-null counts:\n",
      "- _id: 1167 non-null values (100.0%)\n",
      "- barcode: 1167 non-null values (100.0%)\n",
      "- category: 1012 non-null values (86.7%)\n",
      "- categoryCode: 517 non-null values (44.3%)\n",
      "- cpg: 1167 non-null values (100.0%)\n",
      "- name: 1167 non-null values (100.0%)\n",
      "- topBrand: 555 non-null values (47.6%)\n",
      "- brandCode: 933 non-null values (79.9%)\n",
      "\n",
      "Dtypes:\n",
      "_id              object\n",
      "barcode           int64\n",
      "category         object\n",
      "categoryCode     object\n",
      "cpg              object\n",
      "name             object\n",
      "topBrand        float64\n",
      "brandCode        object\n",
      "dtype: object\n",
      "\n",
      "\n"
     ]
    }
   ],
   "source": [
    "dataset_summary(brands_df, \"Brands\")"
   ]
  },
  {
   "cell_type": "markdown",
   "metadata": {},
   "source": [
    "## Brands Dataset\n",
    "\n",
    "**Overview:** A collection of 1,167 product brands with their attributes and categorization.\n",
    "\n",
    "**Key Characteristics:**\n",
    "- Complete data for brand identifiers, barcodes, and names\n",
    "- Nested JSON structure for CPG (Consumer Packaged Goods) company information\n",
    "- Significant missing data in categoryCode (55.7%) and topBrand (52.4%) fields\n",
    "- Moderate missing data in category (13.3%) and brandCode (20.1%) fields\n",
    "\n",
    "**Data Types:**\n",
    "- Mostly text-based fields stored as objects\n",
    "- Barcode stored as integer\n",
    "- topBrand stored as float (appears to be a binary flag or rating)\n",
    "\n",
    "**Notable Issues:**\n",
    "- Inconsistent category and categoryCode mapping\n",
    "- Missing topBrand values for over half the brands\n",
    "- brandCode missing for about 20% of entries"
   ]
  },
  {
   "cell_type": "code",
   "execution_count": 48,
   "metadata": {},
   "outputs": [
    {
     "name": "stdout",
     "output_type": "stream",
     "text": [
      "=== Receipts Dataset Summary ===\n",
      "Shape: (1119, 15)\n",
      "\n",
      "Column non-null counts:\n",
      "- _id: 1119 non-null values (100.0%)\n",
      "- bonusPointsEarned: 544 non-null values (48.6%)\n",
      "- bonusPointsEarnedReason: 544 non-null values (48.6%)\n",
      "- createDate: 1119 non-null values (100.0%)\n",
      "- dateScanned: 1119 non-null values (100.0%)\n",
      "- finishedDate: 568 non-null values (50.8%)\n",
      "- modifyDate: 1119 non-null values (100.0%)\n",
      "- pointsAwardedDate: 537 non-null values (48.0%)\n",
      "- pointsEarned: 609 non-null values (54.4%)\n",
      "- purchaseDate: 671 non-null values (60.0%)\n",
      "- purchasedItemCount: 635 non-null values (56.7%)\n",
      "- rewardsReceiptItemList: 679 non-null values (60.7%)\n",
      "- rewardsReceiptStatus: 1119 non-null values (100.0%)\n",
      "- totalSpent: 684 non-null values (61.1%)\n",
      "- userId: 1119 non-null values (100.0%)\n",
      "\n",
      "Dtypes:\n",
      "_id                         object\n",
      "bonusPointsEarned          float64\n",
      "bonusPointsEarnedReason     object\n",
      "createDate                  object\n",
      "dateScanned                 object\n",
      "finishedDate                object\n",
      "modifyDate                  object\n",
      "pointsAwardedDate           object\n",
      "pointsEarned               float64\n",
      "purchaseDate                object\n",
      "purchasedItemCount         float64\n",
      "rewardsReceiptItemList      object\n",
      "rewardsReceiptStatus        object\n",
      "totalSpent                 float64\n",
      "userId                      object\n",
      "dtype: object\n",
      "\n",
      "\n"
     ]
    }
   ],
   "source": [
    "dataset_summary(receipts_df, \"Receipts\")"
   ]
  },
  {
   "cell_type": "markdown",
   "metadata": {},
   "source": [
    "## Receipts Dataset\n",
    "\n",
    "**Overview:** Contains 1,119 receipt transactions with detailed information about purchases, points earned, and processing status.\n",
    "\n",
    "**Key Characteristics:**\n",
    "- Core receipt identifiers and timestamps (ID, createDate, dateScanned, modifyDate) are complete\n",
    "- Significant missing data across multiple fields, particularly bonus points information\n",
    "- Purchase details (totalSpent, purchasedItemCount) missing for ~40% of receipts\n",
    "- Nested structure for receipt items (rewardsReceiptItemList)\n",
    "\n",
    "**Data Types:**\n",
    "- Dates stored as object type with nested JSON structure\n",
    "- Numeric values (points, counts, amounts) stored as float64\n",
    "- Receipt status and user reference stored as objects\n",
    "\n",
    "**Notable Issues:**\n",
    "- High percentage of missing values across multiple fields\n",
    "- Non-standardized date formats stored as objects\n",
    "- Receipt items stored as nested arrays requiring flattening"
   ]
  },
  {
   "cell_type": "code",
   "execution_count": 49,
   "metadata": {},
   "outputs": [
    {
     "name": "stdout",
     "output_type": "stream",
     "text": [
      "=== Users Dataset Summary ===\n",
      "Shape: (495, 7)\n",
      "\n",
      "Column non-null counts:\n",
      "- _id: 495 non-null values (100.0%)\n",
      "- active: 495 non-null values (100.0%)\n",
      "- createdDate: 495 non-null values (100.0%)\n",
      "- lastLogin: 433 non-null values (87.5%)\n",
      "- role: 495 non-null values (100.0%)\n",
      "- signUpSource: 447 non-null values (90.3%)\n",
      "- state: 439 non-null values (88.7%)\n",
      "\n",
      "Dtypes:\n",
      "_id             object\n",
      "active            bool\n",
      "createdDate     object\n",
      "lastLogin       object\n",
      "role            object\n",
      "signUpSource    object\n",
      "state           object\n",
      "dtype: object\n",
      "\n",
      "\n"
     ]
    }
   ],
   "source": [
    "dataset_summary(user_df, \"Users\")"
   ]
  },
  {
   "cell_type": "markdown",
   "metadata": {},
   "source": [
    "## Users Dataset\n",
    "\n",
    "**Overview:** Contains information about 495 users of the rewards platform.\n",
    "\n",
    "**Key Characteristics:**\n",
    "- Complete data for core user attributes (ID, active status, created date, role)\n",
    "- High completion rate for login information (87.5%) and geographical data (88.7%)\n",
    "- Sign-up source available for 90.3% of users\n",
    "\n",
    "**Data Types:**\n",
    "- Boolean flag for active status\n",
    "- Dates stored as objects with nested structure\n",
    "- Text fields (role, state, signUpSource) stored as objects\n",
    "\n",
    "**Notable Issues:**\n",
    "- Appears to have duplicate user IDs in the dataset\n",
    "- Dates stored in non-standard format\n",
    "- Some missing geographical and source information"
   ]
  },
  {
   "cell_type": "code",
   "execution_count": 50,
   "metadata": {},
   "outputs": [
    {
     "data": {
      "text/html": [
       "<div>\n",
       "<style scoped>\n",
       "    .dataframe tbody tr th:only-of-type {\n",
       "        vertical-align: middle;\n",
       "    }\n",
       "\n",
       "    .dataframe tbody tr th {\n",
       "        vertical-align: top;\n",
       "    }\n",
       "\n",
       "    .dataframe thead th {\n",
       "        text-align: right;\n",
       "    }\n",
       "</style>\n",
       "<table border=\"1\" class=\"dataframe\">\n",
       "  <thead>\n",
       "    <tr style=\"text-align: right;\">\n",
       "      <th></th>\n",
       "      <th>_id</th>\n",
       "      <th>bonusPointsEarned</th>\n",
       "      <th>bonusPointsEarnedReason</th>\n",
       "      <th>createDate</th>\n",
       "      <th>dateScanned</th>\n",
       "      <th>finishedDate</th>\n",
       "      <th>modifyDate</th>\n",
       "      <th>pointsAwardedDate</th>\n",
       "      <th>pointsEarned</th>\n",
       "      <th>purchaseDate</th>\n",
       "      <th>purchasedItemCount</th>\n",
       "      <th>rewardsReceiptItemList</th>\n",
       "      <th>rewardsReceiptStatus</th>\n",
       "      <th>totalSpent</th>\n",
       "      <th>userId</th>\n",
       "    </tr>\n",
       "  </thead>\n",
       "  <tbody>\n",
       "    <tr>\n",
       "      <th>0</th>\n",
       "      <td>{'$oid': '5ff1e1eb0a720f0523000575'}</td>\n",
       "      <td>500.0</td>\n",
       "      <td>Receipt number 2 completed, bonus point schedu...</td>\n",
       "      <td>{'$date': 1609687531000}</td>\n",
       "      <td>{'$date': 1609687531000}</td>\n",
       "      <td>{'$date': 1609687531000}</td>\n",
       "      <td>{'$date': 1609687536000}</td>\n",
       "      <td>{'$date': 1609687531000}</td>\n",
       "      <td>500.0</td>\n",
       "      <td>{'$date': 1609632000000}</td>\n",
       "      <td>5.0</td>\n",
       "      <td>[{'barcode': '4011', 'description': 'ITEM NOT ...</td>\n",
       "      <td>FINISHED</td>\n",
       "      <td>26.0</td>\n",
       "      <td>5ff1e1eacfcf6c399c274ae6</td>\n",
       "    </tr>\n",
       "    <tr>\n",
       "      <th>1</th>\n",
       "      <td>{'$oid': '5ff1e1bb0a720f052300056b'}</td>\n",
       "      <td>150.0</td>\n",
       "      <td>Receipt number 5 completed, bonus point schedu...</td>\n",
       "      <td>{'$date': 1609687483000}</td>\n",
       "      <td>{'$date': 1609687483000}</td>\n",
       "      <td>{'$date': 1609687483000}</td>\n",
       "      <td>{'$date': 1609687488000}</td>\n",
       "      <td>{'$date': 1609687483000}</td>\n",
       "      <td>150.0</td>\n",
       "      <td>{'$date': 1609601083000}</td>\n",
       "      <td>2.0</td>\n",
       "      <td>[{'barcode': '4011', 'description': 'ITEM NOT ...</td>\n",
       "      <td>FINISHED</td>\n",
       "      <td>11.0</td>\n",
       "      <td>5ff1e194b6a9d73a3a9f1052</td>\n",
       "    </tr>\n",
       "    <tr>\n",
       "      <th>2</th>\n",
       "      <td>{'$oid': '5ff1e1f10a720f052300057a'}</td>\n",
       "      <td>5.0</td>\n",
       "      <td>All-receipts receipt bonus</td>\n",
       "      <td>{'$date': 1609687537000}</td>\n",
       "      <td>{'$date': 1609687537000}</td>\n",
       "      <td>NaN</td>\n",
       "      <td>{'$date': 1609687542000}</td>\n",
       "      <td>NaN</td>\n",
       "      <td>5.0</td>\n",
       "      <td>{'$date': 1609632000000}</td>\n",
       "      <td>1.0</td>\n",
       "      <td>[{'needsFetchReview': False, 'partnerItemId': ...</td>\n",
       "      <td>REJECTED</td>\n",
       "      <td>10.0</td>\n",
       "      <td>5ff1e1f1cfcf6c399c274b0b</td>\n",
       "    </tr>\n",
       "    <tr>\n",
       "      <th>3</th>\n",
       "      <td>{'$oid': '5ff1e1ee0a7214ada100056f'}</td>\n",
       "      <td>5.0</td>\n",
       "      <td>All-receipts receipt bonus</td>\n",
       "      <td>{'$date': 1609687534000}</td>\n",
       "      <td>{'$date': 1609687534000}</td>\n",
       "      <td>{'$date': 1609687534000}</td>\n",
       "      <td>{'$date': 1609687539000}</td>\n",
       "      <td>{'$date': 1609687534000}</td>\n",
       "      <td>5.0</td>\n",
       "      <td>{'$date': 1609632000000}</td>\n",
       "      <td>4.0</td>\n",
       "      <td>[{'barcode': '4011', 'description': 'ITEM NOT ...</td>\n",
       "      <td>FINISHED</td>\n",
       "      <td>28.0</td>\n",
       "      <td>5ff1e1eacfcf6c399c274ae6</td>\n",
       "    </tr>\n",
       "    <tr>\n",
       "      <th>4</th>\n",
       "      <td>{'$oid': '5ff1e1d20a7214ada1000561'}</td>\n",
       "      <td>5.0</td>\n",
       "      <td>All-receipts receipt bonus</td>\n",
       "      <td>{'$date': 1609687506000}</td>\n",
       "      <td>{'$date': 1609687506000}</td>\n",
       "      <td>{'$date': 1609687511000}</td>\n",
       "      <td>{'$date': 1609687511000}</td>\n",
       "      <td>{'$date': 1609687506000}</td>\n",
       "      <td>5.0</td>\n",
       "      <td>{'$date': 1609601106000}</td>\n",
       "      <td>2.0</td>\n",
       "      <td>[{'barcode': '4011', 'description': 'ITEM NOT ...</td>\n",
       "      <td>FINISHED</td>\n",
       "      <td>1.0</td>\n",
       "      <td>5ff1e194b6a9d73a3a9f1052</td>\n",
       "    </tr>\n",
       "  </tbody>\n",
       "</table>\n",
       "</div>"
      ],
      "text/plain": [
       "                                    _id  bonusPointsEarned  \\\n",
       "0  {'$oid': '5ff1e1eb0a720f0523000575'}              500.0   \n",
       "1  {'$oid': '5ff1e1bb0a720f052300056b'}              150.0   \n",
       "2  {'$oid': '5ff1e1f10a720f052300057a'}                5.0   \n",
       "3  {'$oid': '5ff1e1ee0a7214ada100056f'}                5.0   \n",
       "4  {'$oid': '5ff1e1d20a7214ada1000561'}                5.0   \n",
       "\n",
       "                             bonusPointsEarnedReason  \\\n",
       "0  Receipt number 2 completed, bonus point schedu...   \n",
       "1  Receipt number 5 completed, bonus point schedu...   \n",
       "2                         All-receipts receipt bonus   \n",
       "3                         All-receipts receipt bonus   \n",
       "4                         All-receipts receipt bonus   \n",
       "\n",
       "                 createDate               dateScanned  \\\n",
       "0  {'$date': 1609687531000}  {'$date': 1609687531000}   \n",
       "1  {'$date': 1609687483000}  {'$date': 1609687483000}   \n",
       "2  {'$date': 1609687537000}  {'$date': 1609687537000}   \n",
       "3  {'$date': 1609687534000}  {'$date': 1609687534000}   \n",
       "4  {'$date': 1609687506000}  {'$date': 1609687506000}   \n",
       "\n",
       "               finishedDate                modifyDate  \\\n",
       "0  {'$date': 1609687531000}  {'$date': 1609687536000}   \n",
       "1  {'$date': 1609687483000}  {'$date': 1609687488000}   \n",
       "2                       NaN  {'$date': 1609687542000}   \n",
       "3  {'$date': 1609687534000}  {'$date': 1609687539000}   \n",
       "4  {'$date': 1609687511000}  {'$date': 1609687511000}   \n",
       "\n",
       "          pointsAwardedDate  pointsEarned              purchaseDate  \\\n",
       "0  {'$date': 1609687531000}         500.0  {'$date': 1609632000000}   \n",
       "1  {'$date': 1609687483000}         150.0  {'$date': 1609601083000}   \n",
       "2                       NaN           5.0  {'$date': 1609632000000}   \n",
       "3  {'$date': 1609687534000}           5.0  {'$date': 1609632000000}   \n",
       "4  {'$date': 1609687506000}           5.0  {'$date': 1609601106000}   \n",
       "\n",
       "   purchasedItemCount                             rewardsReceiptItemList  \\\n",
       "0                 5.0  [{'barcode': '4011', 'description': 'ITEM NOT ...   \n",
       "1                 2.0  [{'barcode': '4011', 'description': 'ITEM NOT ...   \n",
       "2                 1.0  [{'needsFetchReview': False, 'partnerItemId': ...   \n",
       "3                 4.0  [{'barcode': '4011', 'description': 'ITEM NOT ...   \n",
       "4                 2.0  [{'barcode': '4011', 'description': 'ITEM NOT ...   \n",
       "\n",
       "  rewardsReceiptStatus  totalSpent                    userId  \n",
       "0             FINISHED        26.0  5ff1e1eacfcf6c399c274ae6  \n",
       "1             FINISHED        11.0  5ff1e194b6a9d73a3a9f1052  \n",
       "2             REJECTED        10.0  5ff1e1f1cfcf6c399c274b0b  \n",
       "3             FINISHED        28.0  5ff1e1eacfcf6c399c274ae6  \n",
       "4             FINISHED         1.0  5ff1e194b6a9d73a3a9f1052  "
      ]
     },
     "execution_count": 50,
     "metadata": {},
     "output_type": "execute_result"
    }
   ],
   "source": [
    "receipts_df = pd.read_json('receipts.json.gz', lines=True)\n",
    "receipts_df.head(5)"
   ]
  },
  {
   "cell_type": "code",
   "execution_count": 51,
   "metadata": {},
   "outputs": [
    {
     "name": "stdout",
     "output_type": "stream",
     "text": [
      "<class 'pandas.core.frame.DataFrame'>\n",
      "RangeIndex: 1119 entries, 0 to 1118\n",
      "Data columns (total 15 columns):\n",
      " #   Column                   Non-Null Count  Dtype  \n",
      "---  ------                   --------------  -----  \n",
      " 0   _id                      1119 non-null   object \n",
      " 1   bonusPointsEarned        544 non-null    float64\n",
      " 2   bonusPointsEarnedReason  544 non-null    object \n",
      " 3   createDate               1119 non-null   object \n",
      " 4   dateScanned              1119 non-null   object \n",
      " 5   finishedDate             568 non-null    object \n",
      " 6   modifyDate               1119 non-null   object \n",
      " 7   pointsAwardedDate        537 non-null    object \n",
      " 8   pointsEarned             609 non-null    float64\n",
      " 9   purchaseDate             671 non-null    object \n",
      " 10  purchasedItemCount       635 non-null    float64\n",
      " 11  rewardsReceiptItemList   679 non-null    object \n",
      " 12  rewardsReceiptStatus     1119 non-null   object \n",
      " 13  totalSpent               684 non-null    float64\n",
      " 14  userId                   1119 non-null   object \n",
      "dtypes: float64(4), object(11)\n",
      "memory usage: 131.3+ KB\n"
     ]
    }
   ],
   "source": [
    "receipts_df.info()"
   ]
  },
  {
   "cell_type": "code",
   "execution_count": 52,
   "metadata": {},
   "outputs": [
    {
     "data": {
      "text/html": [
       "<div>\n",
       "<style scoped>\n",
       "    .dataframe tbody tr th:only-of-type {\n",
       "        vertical-align: middle;\n",
       "    }\n",
       "\n",
       "    .dataframe tbody tr th {\n",
       "        vertical-align: top;\n",
       "    }\n",
       "\n",
       "    .dataframe thead th {\n",
       "        text-align: right;\n",
       "    }\n",
       "</style>\n",
       "<table border=\"1\" class=\"dataframe\">\n",
       "  <thead>\n",
       "    <tr style=\"text-align: right;\">\n",
       "      <th></th>\n",
       "      <th>_id</th>\n",
       "      <th>active</th>\n",
       "      <th>createdDate</th>\n",
       "      <th>lastLogin</th>\n",
       "      <th>role</th>\n",
       "      <th>signUpSource</th>\n",
       "      <th>state</th>\n",
       "    </tr>\n",
       "  </thead>\n",
       "  <tbody>\n",
       "    <tr>\n",
       "      <th>0</th>\n",
       "      <td>{'$oid': '5ff1e194b6a9d73a3a9f1052'}</td>\n",
       "      <td>True</td>\n",
       "      <td>{'$date': 1609687444800}</td>\n",
       "      <td>{'$date': 1609687537858}</td>\n",
       "      <td>consumer</td>\n",
       "      <td>Email</td>\n",
       "      <td>WI</td>\n",
       "    </tr>\n",
       "    <tr>\n",
       "      <th>1</th>\n",
       "      <td>{'$oid': '5ff1e194b6a9d73a3a9f1052'}</td>\n",
       "      <td>True</td>\n",
       "      <td>{'$date': 1609687444800}</td>\n",
       "      <td>{'$date': 1609687537858}</td>\n",
       "      <td>consumer</td>\n",
       "      <td>Email</td>\n",
       "      <td>WI</td>\n",
       "    </tr>\n",
       "    <tr>\n",
       "      <th>2</th>\n",
       "      <td>{'$oid': '5ff1e194b6a9d73a3a9f1052'}</td>\n",
       "      <td>True</td>\n",
       "      <td>{'$date': 1609687444800}</td>\n",
       "      <td>{'$date': 1609687537858}</td>\n",
       "      <td>consumer</td>\n",
       "      <td>Email</td>\n",
       "      <td>WI</td>\n",
       "    </tr>\n",
       "    <tr>\n",
       "      <th>3</th>\n",
       "      <td>{'$oid': '5ff1e1eacfcf6c399c274ae6'}</td>\n",
       "      <td>True</td>\n",
       "      <td>{'$date': 1609687530554}</td>\n",
       "      <td>{'$date': 1609687530597}</td>\n",
       "      <td>consumer</td>\n",
       "      <td>Email</td>\n",
       "      <td>WI</td>\n",
       "    </tr>\n",
       "    <tr>\n",
       "      <th>4</th>\n",
       "      <td>{'$oid': '5ff1e194b6a9d73a3a9f1052'}</td>\n",
       "      <td>True</td>\n",
       "      <td>{'$date': 1609687444800}</td>\n",
       "      <td>{'$date': 1609687537858}</td>\n",
       "      <td>consumer</td>\n",
       "      <td>Email</td>\n",
       "      <td>WI</td>\n",
       "    </tr>\n",
       "    <tr>\n",
       "      <th>...</th>\n",
       "      <td>...</td>\n",
       "      <td>...</td>\n",
       "      <td>...</td>\n",
       "      <td>...</td>\n",
       "      <td>...</td>\n",
       "      <td>...</td>\n",
       "      <td>...</td>\n",
       "    </tr>\n",
       "    <tr>\n",
       "      <th>490</th>\n",
       "      <td>{'$oid': '54943462e4b07e684157a532'}</td>\n",
       "      <td>True</td>\n",
       "      <td>{'$date': 1418998882381}</td>\n",
       "      <td>{'$date': 1614963143204}</td>\n",
       "      <td>fetch-staff</td>\n",
       "      <td>NaN</td>\n",
       "      <td>NaN</td>\n",
       "    </tr>\n",
       "    <tr>\n",
       "      <th>491</th>\n",
       "      <td>{'$oid': '54943462e4b07e684157a532'}</td>\n",
       "      <td>True</td>\n",
       "      <td>{'$date': 1418998882381}</td>\n",
       "      <td>{'$date': 1614963143204}</td>\n",
       "      <td>fetch-staff</td>\n",
       "      <td>NaN</td>\n",
       "      <td>NaN</td>\n",
       "    </tr>\n",
       "    <tr>\n",
       "      <th>492</th>\n",
       "      <td>{'$oid': '54943462e4b07e684157a532'}</td>\n",
       "      <td>True</td>\n",
       "      <td>{'$date': 1418998882381}</td>\n",
       "      <td>{'$date': 1614963143204}</td>\n",
       "      <td>fetch-staff</td>\n",
       "      <td>NaN</td>\n",
       "      <td>NaN</td>\n",
       "    </tr>\n",
       "    <tr>\n",
       "      <th>493</th>\n",
       "      <td>{'$oid': '54943462e4b07e684157a532'}</td>\n",
       "      <td>True</td>\n",
       "      <td>{'$date': 1418998882381}</td>\n",
       "      <td>{'$date': 1614963143204}</td>\n",
       "      <td>fetch-staff</td>\n",
       "      <td>NaN</td>\n",
       "      <td>NaN</td>\n",
       "    </tr>\n",
       "    <tr>\n",
       "      <th>494</th>\n",
       "      <td>{'$oid': '54943462e4b07e684157a532'}</td>\n",
       "      <td>True</td>\n",
       "      <td>{'$date': 1418998882381}</td>\n",
       "      <td>{'$date': 1614963143204}</td>\n",
       "      <td>fetch-staff</td>\n",
       "      <td>NaN</td>\n",
       "      <td>NaN</td>\n",
       "    </tr>\n",
       "  </tbody>\n",
       "</table>\n",
       "<p>495 rows × 7 columns</p>\n",
       "</div>"
      ],
      "text/plain": [
       "                                      _id  active               createdDate  \\\n",
       "0    {'$oid': '5ff1e194b6a9d73a3a9f1052'}    True  {'$date': 1609687444800}   \n",
       "1    {'$oid': '5ff1e194b6a9d73a3a9f1052'}    True  {'$date': 1609687444800}   \n",
       "2    {'$oid': '5ff1e194b6a9d73a3a9f1052'}    True  {'$date': 1609687444800}   \n",
       "3    {'$oid': '5ff1e1eacfcf6c399c274ae6'}    True  {'$date': 1609687530554}   \n",
       "4    {'$oid': '5ff1e194b6a9d73a3a9f1052'}    True  {'$date': 1609687444800}   \n",
       "..                                    ...     ...                       ...   \n",
       "490  {'$oid': '54943462e4b07e684157a532'}    True  {'$date': 1418998882381}   \n",
       "491  {'$oid': '54943462e4b07e684157a532'}    True  {'$date': 1418998882381}   \n",
       "492  {'$oid': '54943462e4b07e684157a532'}    True  {'$date': 1418998882381}   \n",
       "493  {'$oid': '54943462e4b07e684157a532'}    True  {'$date': 1418998882381}   \n",
       "494  {'$oid': '54943462e4b07e684157a532'}    True  {'$date': 1418998882381}   \n",
       "\n",
       "                    lastLogin         role signUpSource state  \n",
       "0    {'$date': 1609687537858}     consumer        Email    WI  \n",
       "1    {'$date': 1609687537858}     consumer        Email    WI  \n",
       "2    {'$date': 1609687537858}     consumer        Email    WI  \n",
       "3    {'$date': 1609687530597}     consumer        Email    WI  \n",
       "4    {'$date': 1609687537858}     consumer        Email    WI  \n",
       "..                        ...          ...          ...   ...  \n",
       "490  {'$date': 1614963143204}  fetch-staff          NaN   NaN  \n",
       "491  {'$date': 1614963143204}  fetch-staff          NaN   NaN  \n",
       "492  {'$date': 1614963143204}  fetch-staff          NaN   NaN  \n",
       "493  {'$date': 1614963143204}  fetch-staff          NaN   NaN  \n",
       "494  {'$date': 1614963143204}  fetch-staff          NaN   NaN  \n",
       "\n",
       "[495 rows x 7 columns]"
      ]
     },
     "execution_count": 52,
     "metadata": {},
     "output_type": "execute_result"
    }
   ],
   "source": [
    "user_df = pd.read_json('users.json/users.json', lines = True)\n",
    "user_df"
   ]
  },
  {
   "cell_type": "code",
   "execution_count": 53,
   "metadata": {},
   "outputs": [
    {
     "name": "stdout",
     "output_type": "stream",
     "text": [
      "<class 'pandas.core.frame.DataFrame'>\n",
      "RangeIndex: 495 entries, 0 to 494\n",
      "Data columns (total 7 columns):\n",
      " #   Column        Non-Null Count  Dtype \n",
      "---  ------        --------------  ----- \n",
      " 0   _id           495 non-null    object\n",
      " 1   active        495 non-null    bool  \n",
      " 2   createdDate   495 non-null    object\n",
      " 3   lastLogin     433 non-null    object\n",
      " 4   role          495 non-null    object\n",
      " 5   signUpSource  447 non-null    object\n",
      " 6   state         439 non-null    object\n",
      "dtypes: bool(1), object(6)\n",
      "memory usage: 23.8+ KB\n"
     ]
    }
   ],
   "source": [
    "user_df.info()"
   ]
  },
  {
   "cell_type": "markdown",
   "metadata": {},
   "source": [
    "## Users Dataset\n",
    "\n",
    "**Overview:** Contains information about 495 users of the rewards platform.\n",
    "\n",
    "**Key Characteristics:**\n",
    "- Complete data for core user attributes (ID, active status, created date, role)\n",
    "- High completion rate for login information (87.5%) and geographical data (88.7%)\n",
    "- Sign-up source available for 90.3% of users\n",
    "\n",
    "**Data Types:**\n",
    "- Boolean flag for active status\n",
    "- Dates stored as objects with nested structure\n",
    "- Text fields (role, state, signUpSource) stored as objects\n",
    "\n",
    "**Notable Issues:**\n",
    "- Appears to have duplicate user IDs in the dataset\n",
    "- Dates stored in non-standard format\n",
    "- Some missing geographical and source information"
   ]
  },
  {
   "cell_type": "code",
   "execution_count": null,
   "metadata": {},
   "outputs": [
    {
     "name": "stdout",
     "output_type": "stream",
     "text": [
      "Brands duplicates: 0\n",
      "Receipts duplicates: 0\n",
      "Users duplicates: 283\n"
     ]
    }
   ],
   "source": [
    "print(f\"Brands duplicates: {brands_df.duplicated('_id').sum()}\")\n",
    "print(f\"Receipts duplicates: {receipts_df.duplicated('_id').sum()}\")\n",
    "print(f\"Users duplicates: {user_df.duplicated('_id').sum()}\")"
   ]
  },
  {
   "cell_type": "markdown",
   "metadata": {},
   "source": [
    "## Duplicate Records\n",
    "* **Brands:** No duplicates detected\n",
    "* **Receipts:** No duplicates detected\n",
    "* **Users:** 283 duplicate records (57% of dataset)\n",
    "  * 70 unique user IDs appear multiple times\n",
    "  * Most duplicated ID appears 20 times"
   ]
  },
  {
   "cell_type": "code",
   "execution_count": 56,
   "metadata": {},
   "outputs": [
    {
     "name": "stdout",
     "output_type": "stream",
     "text": [
      "Users with duplicated IDs: 70\n",
      "Top duplicate user IDs:\n",
      "_id\n",
      "{'$oid': '54943462e4b07e684157a532'}    20\n",
      "{'$oid': '5fc961c3b8cfca11a077dd33'}    20\n",
      "{'$oid': '5ff5d15aeb7c7d12096d91a2'}    18\n",
      "{'$oid': '59c124bae4b0299e55b0f330'}    18\n",
      "{'$oid': '5fa41775898c7a11a6bcef3e'}    18\n",
      "Name: count, dtype: int64\n"
     ]
    }
   ],
   "source": [
    "user_count = user_df['_id'].value_counts()\n",
    "print(f'Users with duplicated IDs: {sum(user_count> 1)}')\n",
    "if sum(user_count > 1) > 0:\n",
    "    print(\"Top duplicate user IDs:\")\n",
    "    print(user_count[user_count > 1].head())\n"
   ]
  },
  {
   "cell_type": "code",
   "execution_count": 57,
   "metadata": {},
   "outputs": [],
   "source": [
    "def check_date_format(df, date_columns):\n",
    "    for col in date_columns:\n",
    "        if col in df.columns:\n",
    "            sample = df[col].dropna().iloc[0] if not df[col].dropna().empty else None\n",
    "            print(f\"- {col} sample: {type(sample)}, value: {sample}\")"
   ]
  },
  {
   "cell_type": "code",
   "execution_count": 58,
   "metadata": {},
   "outputs": [
    {
     "name": "stdout",
     "output_type": "stream",
     "text": [
      "Receipt date fields:\n",
      "- createDate sample: <class 'dict'>, value: {'$date': 1609687531000}\n",
      "- dateScanned sample: <class 'dict'>, value: {'$date': 1609687531000}\n",
      "- finishedDate sample: <class 'dict'>, value: {'$date': 1609687531000}\n",
      "- modifyDate sample: <class 'dict'>, value: {'$date': 1609687536000}\n",
      "- pointsAwardedDate sample: <class 'dict'>, value: {'$date': 1609687531000}\n",
      "- purchaseDate sample: <class 'dict'>, value: {'$date': 1609632000000}\n"
     ]
    }
   ],
   "source": [
    "print(\"Receipt date fields:\")\n",
    "receipt_date_cols = ['createDate', 'dateScanned', 'finishedDate', 'modifyDate', 'pointsAwardedDate', 'purchaseDate']\n",
    "check_date_format(receipts_df, receipt_date_cols)"
   ]
  },
  {
   "cell_type": "markdown",
   "metadata": {},
   "source": [
    "## Data Format Issues\n",
    "* All date fields stored as nested JSON objects: `{'$date': timestamp}`\n",
    "* Nested structures in CPG field: `{'$id': {'$oid': '...'}, '$ref': 'Cogs'}`\n",
    "* Receipt items stored as arrays requiring flattening\n"
   ]
  },
  {
   "cell_type": "code",
   "execution_count": 59,
   "metadata": {},
   "outputs": [
    {
     "name": "stdout",
     "output_type": "stream",
     "text": [
      "\n",
      "User date fields:\n",
      "- createdDate sample: <class 'dict'>, value: {'$date': 1609687444800}\n",
      "- lastLogin sample: <class 'dict'>, value: {'$date': 1609687537858}\n"
     ]
    }
   ],
   "source": [
    "print(\"\\nUser date fields:\")\n",
    "user_date_cols = ['createdDate', 'lastLogin']\n",
    "check_date_format(user_df, user_date_cols)"
   ]
  },
  {
   "cell_type": "code",
   "execution_count": null,
   "metadata": {},
   "outputs": [
    {
     "name": "stdout",
     "output_type": "stream",
     "text": [
      "CPG sample: <class 'dict'>, value: {'$id': {'$oid': '601ac114be37ce2ead437550'}, '$ref': 'Cogs'}\n"
     ]
    }
   ],
   "source": [
    "if 'cpg' in brands_df.columns:\n",
    "    cpg_sample = brands_df['cpg'].dropna().iloc[0] if not brands_df['cpg'].dropna().empty else None\n",
    "    print(f\"CPG sample: {type(cpg_sample)}, value: {cpg_sample}\")\n"
   ]
  },
  {
   "cell_type": "code",
   "execution_count": 61,
   "metadata": {},
   "outputs": [
    {
     "name": "stdout",
     "output_type": "stream",
     "text": [
      "rewardsReceiptItemList sample: <class 'list'>\n",
      "First item in list: {'barcode': '4011', 'description': 'ITEM NOT FOUND', 'finalPrice': '26.00', 'itemPrice': '26.00', 'needsFetchReview': False, 'partnerItemId': '1', 'preventTargetGapPoints': True, 'quantityPurchased': 5, 'userFlaggedBarcode': '4011', 'userFlaggedNewItem': True, 'userFlaggedPrice': '26.00', 'userFlaggedQuantity': 5}\n"
     ]
    }
   ],
   "source": [
    "if 'rewardsReceiptItemList' in receipts_df.columns:\n",
    "    items_sample = receipts_df['rewardsReceiptItemList'].dropna().iloc[0] if not receipts_df['rewardsReceiptItemList'].dropna().empty else None\n",
    "    print(f\"rewardsReceiptItemList sample: {type(items_sample)}\")\n",
    "    if items_sample:\n",
    "        print(f\"First item in list: {items_sample[0] if isinstance(items_sample, list) and len(items_sample) > 0 else 'Empty'}\")\n"
   ]
  },
  {
   "cell_type": "code",
   "execution_count": null,
   "metadata": {},
   "outputs": [
    {
     "name": "stdout",
     "output_type": "stream",
     "text": [
      "\n",
      "=== Missing Join Keys ===\n",
      "Missing brandCode in brands: 234 out of 1167 (20.1%)\n",
      "Missing userId in receipts: 0 out of 1119 (0.0%)\n"
     ]
    }
   ],
   "source": [
    "print(\"\\n=== Missing Join Keys ===\")\n",
    "print(f\"Missing brandCode in brands: {brands_df['brandCode'].isna().sum()} out of {len(brands_df)} ({brands_df['brandCode'].isna().sum()/len(brands_df)*100:.1f}%)\")\n",
    "print(f\"Missing userId in receipts: {receipts_df['userId'].isna().sum()} out of {len(receipts_df)} ({receipts_df['userId'].isna().sum()/len(receipts_df)*100:.1f}%)\")\n"
   ]
  },
  {
   "cell_type": "code",
   "execution_count": 68,
   "metadata": {},
   "outputs": [
    {
     "name": "stdout",
     "output_type": "stream",
     "text": [
      "Bonus points statistics:\n",
      "count    544.000000\n",
      "mean     238.893382\n",
      "std      299.091731\n",
      "min        5.000000\n",
      "25%        5.000000\n",
      "50%       45.000000\n",
      "75%      500.000000\n",
      "max      750.000000\n",
      "Name: bonusPointsEarned, dtype: float64\n"
     ]
    }
   ],
   "source": [
    "if 'bonusPointsEarned' in receipts_df.columns:\n",
    "    bonus_stats = receipts_df['bonusPointsEarned'].describe()\n",
    "    print(\"Bonus points statistics:\")\n",
    "    print(bonus_stats)"
   ]
  },
  {
   "cell_type": "code",
   "execution_count": null,
   "metadata": {},
   "outputs": [
    {
     "name": "stdout",
     "output_type": "stream",
     "text": [
      "\n",
      "Total spent statistics:\n",
      "count     684.000000\n",
      "mean       77.796857\n",
      "std       347.110349\n",
      "min         0.000000\n",
      "25%         1.000000\n",
      "50%        18.200000\n",
      "75%        34.960000\n",
      "max      4721.950000\n",
      "Name: totalSpent, dtype: float64\n"
     ]
    }
   ],
   "source": [
    "if 'totalSpent' in receipts_df.columns:\n",
    "    spent_stats = receipts_df['totalSpent'].describe()\n",
    "    print(\"\\nTotal spent statistics:\")\n",
    "    print(spent_stats)\n"
   ]
  },
  {
   "cell_type": "markdown",
   "metadata": {},
   "source": [
    "\n",
    "## Statistical Anomalies\n",
    "* **Bonus Points:** \n",
    "  * Range: 5-750 points\n",
    "  * Median: 45 points\n",
    "* **Total Spent:**\n",
    "  * Range: $0-$4,721.95\n",
    "  * Median: $18.20\n",
    "  * Potential outliers in upper quartile"
   ]
  },
  {
   "cell_type": "code",
   "execution_count": null,
   "metadata": {},
   "outputs": [
    {
     "name": "stdout",
     "output_type": "stream",
     "text": [
      "\n",
      "State distribution:\n",
      "state\n",
      "WI    396\n",
      "NH     20\n",
      "AL     12\n",
      "OH      5\n",
      "IL      3\n",
      "KY      1\n",
      "CO      1\n",
      "SC      1\n",
      "Name: count, dtype: int64\n"
     ]
    }
   ],
   "source": [
    "if 'state' in user_df.columns:\n",
    "    state_counts = user_df['state'].value_counts()\n",
    "    print(\"\\nState distribution:\")\n",
    "    print(state_counts.head(10))\n",
    "    \n",
    "    if 'state' in user_df.columns:\n",
    "        invalid_states = [s for s in state_counts.index if s not in ['NaN', 'nan', None] and len(s) != 2]\n",
    "        if invalid_states:\n",
    "            print(f\"\\nPotentially invalid state codes: {invalid_states}\")"
   ]
  },
  {
   "cell_type": "code",
   "execution_count": null,
   "metadata": {},
   "outputs": [
    {
     "name": "stdout",
     "output_type": "stream",
     "text": [
      "\n",
      "Receipt status distribution:\n",
      "rewardsReceiptStatus\n",
      "FINISHED     518\n",
      "SUBMITTED    434\n",
      "REJECTED      71\n",
      "PENDING       50\n",
      "FLAGGED       46\n",
      "Name: count, dtype: int64\n"
     ]
    },
    {
     "data": {
      "image/png": "[encoded data removed]",
      "text/plain": [
       "<Figure size 1000x600 with 1 Axes>"
      ]
     },
     "metadata": {},
     "output_type": "display_data"
    }
   ],
   "source": [
    "if 'rewardsReceiptStatus' in receipts_df.columns:\n",
    "    status_counts = receipts_df['rewardsReceiptStatus'].value_counts()\n",
    "    print(\"\\nReceipt status distribution:\")\n",
    "    print(status_counts)\n",
    "    \n",
    "    plt.figure(figsize=(10, 6))\n",
    "    status_counts.plot(kind='bar')\n",
    "    plt.title('Receipt Status Distribution')\n",
    "    plt.ylabel('Count')\n",
    "    plt.xlabel('Status')\n",
    "    plt.xticks(rotation=45)\n",
    "    plt.tight_layout()\n",
    "    plt.savefig('receipt_status_distribution.png')\n"
   ]
  },
  {
   "cell_type": "markdown",
   "metadata": {},
   "source": [
    "## Distribution Issues\n",
    "* Wisconsin (WI) accounts for 90% of users with state data\n",
    "* Receipt status distribution:\n",
    "  * 46% FINISHED\n",
    "  * 39% SUBMITTED\n",
    "  * 6% REJECTED\n",
    "  * 9% Other (PENDING, FLAGGED)"
   ]
  }
 ],
 "metadata": {
  "kernelspec": {
   "display_name": "Python 3",
   "language": "python",
   "name": "python3"
  },
  "language_info": {
   "codemirror_mode": {
    "name": "ipython",
    "version": 3
   },
   "file_extension": ".py",
   "mimetype": "text/x-python",
   "name": "python",
   "nbconvert_exporter": "python",
   "pygments_lexer": "ipython3",
   "version": "3.12.4"
  }
 },
 "nbformat": 4,
 "nbformat_minor": 2
}
